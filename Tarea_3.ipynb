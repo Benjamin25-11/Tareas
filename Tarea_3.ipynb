{
  "nbformat": 4,
  "nbformat_minor": 0,
  "metadata": {
    "colab": {
      "provenance": [],
      "authorship_tag": "ABX9TyPnrUgPS5q4TkmWB53P8wAJ",
      "include_colab_link": true
    },
    "kernelspec": {
      "name": "python3",
      "display_name": "Python 3"
    },
    "language_info": {
      "name": "python"
    }
  },
  "cells": [
    {
      "cell_type": "markdown",
      "metadata": {
        "id": "view-in-github",
        "colab_type": "text"
      },
      "source": [
        "<a href=\"https://colab.research.google.com/github/Benjamin25-11/Tareas/blob/main/Tarea_3.ipynb\" target=\"_parent\"><img src=\"https://colab.research.google.com/assets/colab-badge.svg\" alt=\"Open In Colab\"/></a>"
      ]
    },
    {
      "cell_type": "code",
      "source": [],
      "metadata": {
        "id": "m1wow9evDded"
      },
      "execution_count": null,
      "outputs": []
    },
    {
      "cell_type": "markdown",
      "source": [
        "Partiendo de la definición de la matriz de covarianza Σ:\n",
        "$$\n",
        "Σ = E [(X − (\\langle X \\rangle))(X − (\\langle X \\rangle))^T]\n",
        "$$\n",
        "Luego, para cualquier vector v ∈ R^n, consideremos el producto cuadrático v^TΣv. Remplazando la definición de la matriz covarianza:\n",
        "$$\n",
        "v^TΣv = v^T [(X − (\\langle X \\rangle))(X − (\\langle X \\rangle))^T] v\n",
        "$$\n",
        "Luego introducimos el vector:\n",
        "$$\n",
        "v^TΣv = [v^T (X − (\\langle X \\rangle))](X − (\\langle X \\rangle))^T v]\n",
        "$$\n",
        "Ahora, dado que $$v^T (X − (\\langle X \\rangle))$$ es un escalar, se puede escribir como:\n",
        "$$\n",
        "v^TΣv = [(v^T (X − (\\langle X \\rangle)))^2]\n",
        "$$\n",
        "El resultado del lado derecho es siempre positivo, por lo tanto:\n",
        "$$\n",
        "(v^T (X − (\\langle X \\rangle)))^2 ≥ 0\n",
        "$$\n",
        "Lo que implica que\n",
        "$$\n",
        "v^TΣv = [(v^T (X − (\\langle X \\rangle)))^2] ≥ 0\n",
        "$$\n",
        "\n",
        "\n",
        "En el caso particulaar, si v^T Σv = 0, implica que el producto punto entre ambos es igual a 0. Esto implica una ortogonalidad entre los vectores.\n",
        "Esta ortogonalidad implica que no hay variavilidad en la dirección del vector v, indicando que v^T Σv es constante en esa dirección."
      ],
      "metadata": {
        "id": "DqUZZLk1pwVC"
      }
    }
  ]
}