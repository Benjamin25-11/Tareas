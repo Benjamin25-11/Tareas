{
 "cells": [
  {
   "cell_type": "markdown",
   "metadata": {
    "colab_type": "text",
    "id": "view-in-github"
   },
   "source": [
    "<a href=\"https://colab.research.google.com/github/Benjamin25-11/Tareas/blob/main/Tarea_3.ipynb\" target=\"_parent\"><img src=\"https://colab.research.google.com/assets/colab-badge.svg\" alt=\"Open In Colab\"/></a>"
   ]
  },
  {
   "cell_type": "code",
   "execution_count": null,
   "metadata": {
    "id": "m1wow9evDded"
   },
   "outputs": [],
   "source": []
  },
  {
   "cell_type": "markdown",
   "metadata": {
    "id": "DqUZZLk1pwVC"
   },
   "source": [
    "Partiendo de la definición de la matriz de covarianza Σ:\n",
    "$$\n",
    "Σ = E [(X − (\\langle X \\rangle))(X − (\\langle X \\rangle))^T]\n",
    "$$\n",
    "Luego, para cualquier vector v ∈ R^n, consideremos el producto cuadrático v^TΣv. Remplazando la definición de la matriz covarianza:\n",
    "$$\n",
    "v^TΣv = v^T [(X − (\\langle X \\rangle))(X − (\\langle X \\rangle))^T] v\n",
    "$$\n",
    "Luego introducimos el vector:\n",
    "$$\n",
    "v^TΣv = [v^T (X − (\\langle X \\rangle))](X − (\\langle X \\rangle))^T v]\n",
    "$$\n",
    "Ahora, dado que $$v^T (X − (\\langle X \\rangle))$$ es un escalar, se puede escribir como:\n",
    "$$\n",
    "v^TΣv = [(v^T (X − (\\langle X \\rangle)))^2]\n",
    "$$\n",
    "El resultado del lado derecho es siempre positivo, por lo tanto:\n",
    "$$\n",
    "(v^T (X − (\\langle X \\rangle)))^2 ≥ 0\n",
    "$$\n",
    "Lo que implica que\n",
    "$$\n",
    "v^TΣv = [(v^T (X − (\\langle X \\rangle)))^2] ≥ 0\n",
    "$$\n",
    "\n",
    "\n",
    "En el caso particulaar, si v^T Σv = 0, implica que el producto punto entre ambos es igual a 0. Esto implica una ortogonalidad entre los vectores.\n",
    "Esta ortogonalidad implica que no hay variavilidad en la dirección del vector v, indicando que v^T Σv es constante en esa dirección."
   ]
  },
  {
   "cell_type": "markdown",
   "metadata": {},
   "source": [
    "# Nota: 50\n",
    "**Solución**\n",
    "\n",
    "Demostramos:\n",
    "$$\n",
    "v_i \\sigma_{ij} v_j = v_i \\langle (x_i - \\mu_i)(x_j - \\mu_j)\\rangle v_j = \\langle \\left(\\mathbf{v}^T(\\mathbf{x} - \\mu)\\right)\\cdot\\left(\\mathbf{v}^T(\\mathbf{x} - \\mu)\\right)\\rangle\n",
    "$$\n",
    "Como es el valor esperado de algo que es siempre mayor o igual a cero, entonces esta cantidad es mayor o igual a cero.\n",
    "\n",
    "El caso $\\mathbf{w}^T\\Sigma\\mathbf{w} = 0$ indica que la varianza en la dirección $\\mathbf{w}$ es cero. Esto implica que toda la distribución se encuentra en un hiperespacio de una dimensión más baja."
   ]
  },
  {
   "cell_type": "code",
   "execution_count": null,
   "metadata": {},
   "outputs": [],
   "source": []
  }
 ],
 "metadata": {
  "colab": {
   "authorship_tag": "ABX9TyPnrUgPS5q4TkmWB53P8wAJ",
   "include_colab_link": true,
   "provenance": []
  },
  "kernelspec": {
   "display_name": "Python 3 (ipykernel)",
   "language": "python",
   "name": "python3"
  },
  "language_info": {
   "codemirror_mode": {
    "name": "ipython",
    "version": 3
   },
   "file_extension": ".py",
   "mimetype": "text/x-python",
   "name": "python",
   "nbconvert_exporter": "python",
   "pygments_lexer": "ipython3",
   "version": "3.11.3"
  }
 },
 "nbformat": 4,
 "nbformat_minor": 1
}
