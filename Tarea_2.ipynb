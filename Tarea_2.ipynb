{
 "cells": [
  {
   "cell_type": "markdown",
   "metadata": {
    "colab_type": "text",
    "id": "view-in-github"
   },
   "source": [
    "<a href=\"https://colab.research.google.com/github/Benjamin25-11/Tareas/blob/main/Tarea_2.ipynb\" target=\"_parent\"><img src=\"https://colab.research.google.com/assets/colab-badge.svg\" alt=\"Open In Colab\"/></a>"
   ]
  },
  {
   "cell_type": "code",
   "execution_count": 1,
   "metadata": {
    "colab": {
     "base_uri": "https://localhost:8080/"
    },
    "id": "c8im0_ypze5n",
    "outputId": "093e1e7f-29fe-42ae-be69-49ae2bd755d4"
   },
   "outputs": [
    {
     "name": "stdout",
     "output_type": "stream",
     "text": [
      "0.3779816513761468\n"
     ]
    }
   ],
   "source": [
    "import numpy as np\n",
    "\n",
    "#A lo largo del código se utilizará teorema de bayes, de modo que p(a|b)= p(b|a)*p(a)/p(b)\n",
    "#Se remplazará el término p(b|a) = p(ab)/p(a)\n",
    "#Teniendo esto en cuenta, la operación se reduce a p(ab)/p(b)\n",
    "\n",
    "# Probabilidades del dado cargado\n",
    "p_n = [0.1, 0.2, 0.2, 0.3, 0.1, 0.1]\n",
    "\n",
    "# Probabilidad de que salga cara al menos una vez corresponde a  1-(1/2)^n\n",
    "def p_b(n):\n",
    "    return 1 - (1/2)**n\n",
    "\n",
    "# Probabilidad total de obtener al menos una cara\n",
    "p_b_total = 0\n",
    "for i in range(6):\n",
    "    n = i + 1  # n toma los valores de 1 a 6\n",
    "    p_b_total += p_b(n) * p_n[i]\n",
    "\n",
    "#Saca la probabilidad conjunta\n",
    "p_ab = 0\n",
    "for i in [0,2,4]:\n",
    "    n = i + 1  # n toma los valores impares\n",
    "    p_ab += p_b(n) * p_n[i]\n",
    "\n",
    "#Finalmente, la probabilidad condicional p(a|b) = p(ab)/p(b)\n",
    "\n",
    "prob_condicional_a_b = p_ab / p_b_total\n",
    "\n",
    "print(prob_condicional_a_b)\n",
    "\n",
    "\n",
    "\n",
    "\n"
   ]
  },
  {
   "cell_type": "markdown",
   "metadata": {},
   "source": [
    "# Nota: 70"
   ]
  }
 ],
 "metadata": {
  "colab": {
   "authorship_tag": "ABX9TyOtdeGrIni+VVlKjwWsz+gA",
   "include_colab_link": true,
   "provenance": []
  },
  "kernelspec": {
   "display_name": "Python 3 (ipykernel)",
   "language": "python",
   "name": "python3"
  },
  "language_info": {
   "codemirror_mode": {
    "name": "ipython",
    "version": 3
   },
   "file_extension": ".py",
   "mimetype": "text/x-python",
   "name": "python",
   "nbconvert_exporter": "python",
   "pygments_lexer": "ipython3",
   "version": "3.11.3"
  }
 },
 "nbformat": 4,
 "nbformat_minor": 1
}
