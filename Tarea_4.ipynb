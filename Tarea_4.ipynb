{
 "cells": [
  {
   "cell_type": "markdown",
   "metadata": {
    "colab_type": "text",
    "id": "view-in-github"
   },
   "source": [
    "<a href=\"https://colab.research.google.com/github/Benjamin25-11/Tareas/blob/main/Tarea_4.ipynb\" target=\"_parent\"><img src=\"https://colab.research.google.com/assets/colab-badge.svg\" alt=\"Open In Colab\"/></a>"
   ]
  },
  {
   "cell_type": "markdown",
   "metadata": {
    "id": "0zth0ZhGvmvD"
   },
   "source": []
  },
  {
   "cell_type": "markdown",
   "metadata": {
    "id": "QoS0R7I8GpbC"
   },
   "source": [
    "En este caso, se tienen N pasos, con N grande. Teniendo en cuenta el teorema central de límite, se calcula el valor esperado, de la forma:  \n",
    "$$\n",
    "\\langle x_i \\rangle = (0.5) \\cdot 1 + (-1) \\cdot (0.5) = 0\n",
    "$$\n",
    "\n",
    "Luego, la varianza se obtiene de la forma:  \n",
    "$$\n",
    "\\sigma^2 = \\langle (x_i - \\langle x_i \\rangle)^2\\rangle\n",
    "$$\n",
    "Como se obtuvo anteirormente, que el valor esperado es 0, se tiene:  \n",
    "$$\n",
    "\\sigma^2= \\langle x_i^2 \\rangle = 1\n",
    "$$\n",
    "Esto debido a que se expresaría:  \n",
    "$$\n",
    "\\sigma^2 = (-1)^2 \\cdot (0.5) + 1^2 \\cdot (0.5) = 1  \n",
    "$$\n",
    "\n",
    "Teniendo esto en cuenta y aplicando el teorema central de límite, se define $X$ como el desplazamiento total descrito por la suma de los desplazamientos individulaes $x_i$.\n",
    "$$\n",
    "X = \\sum_{i=1}^{N} x_i\n",
    "$$\n",
    "Calculando su varianza:  \n",
    "$$\n",
    "\\sigma^2(X) = \\sigma^2 \\left( \\sum_{i=1}^{N} x_i \\right)\n",
    "$$\n",
    "Si se trabaja esta expresión:  \n",
    "$$\n",
    "\\sigma^2 \\left( \\sum_{i=1}^{N} x_i \\right) = \\sum_{i=1}^{N}  \\sigma^2(x_i)\n",
    "$$\n",
    "Luego:  \n",
    "$$\n",
    " \\sum_{i=1}^{N}  \\sigma^2(x_i)= N \\cdot \\sigma^2(x_i) = N\n",
    "$$\n",
    "\n",
    "Finalmente, se obtiene que la desviación estandar es de la froma:\n",
    "$$\n",
    "\\sqrt(\\sigma^2) = \\sigma\n",
    "$$\n",
    "Por lo tanto:\n",
    "$$\n",
    "\\sigma = \\sqrt N\n",
    "$$\n",
    "\n"
   ]
  },
  {
   "cell_type": "markdown",
   "metadata": {},
   "source": [
    "# Nota: 70"
   ]
  },
  {
   "cell_type": "code",
   "execution_count": null,
   "metadata": {},
   "outputs": [],
   "source": []
  }
 ],
 "metadata": {
  "colab": {
   "authorship_tag": "ABX9TyO645KCg5YfmjJsXxpvjRaj",
   "include_colab_link": true,
   "provenance": []
  },
  "kernelspec": {
   "display_name": "Python 3 (ipykernel)",
   "language": "python",
   "name": "python3"
  },
  "language_info": {
   "codemirror_mode": {
    "name": "ipython",
    "version": 3
   },
   "file_extension": ".py",
   "mimetype": "text/x-python",
   "name": "python",
   "nbconvert_exporter": "python",
   "pygments_lexer": "ipython3",
   "version": "3.11.3"
  }
 },
 "nbformat": 4,
 "nbformat_minor": 1
}
