{
  "nbformat": 4,
  "nbformat_minor": 0,
  "metadata": {
    "colab": {
      "provenance": [],
      "authorship_tag": "ABX9TyNUpNianXH0s/B0cJq7bx2K",
      "include_colab_link": true
    },
    "kernelspec": {
      "name": "python3",
      "display_name": "Python 3"
    },
    "language_info": {
      "name": "python"
    }
  },
  "cells": [
    {
      "cell_type": "markdown",
      "metadata": {
        "id": "view-in-github",
        "colab_type": "text"
      },
      "source": [
        "<a href=\"https://colab.research.google.com/github/Benjamin25-11/Tareas/blob/main/Tarea_7.ipynb\" target=\"_parent\"><img src=\"https://colab.research.google.com/assets/colab-badge.svg\" alt=\"Open In Colab\"/></a>"
      ]
    },
    {
      "cell_type": "code",
      "source": [
        "import numpy as np\n",
        "from scipy.special import roots_legendre\n",
        "\n",
        "# Densidad\n",
        "def densidad(x, y, z):\n",
        "    return np.sqrt(x**2 + y**2 + z**2)\n",
        "\n",
        "def cuadratura_gaussiana(func, n_points):\n",
        "    puntos, coef = roots_legendre(n) # Puntos x_i y coeficientes c_i\n",
        "\n",
        "    # Cambio de los limites de integracion\n",
        "    puntos = 0.5 * (1 - (-1)) * (puntos + 1) - 1\n",
        "    coef *= 0.5 * (1 - (-1))\n",
        "    integral = 0.0\n",
        "    for i, x in enumerate(puntos):\n",
        "        for j, y in enumerate(puntos):\n",
        "            for k, z in enumerate(puntos):\n",
        "                if x**2 + y**2 + z**2 <= 1:\n",
        "                    densidad = func(x, y, z)\n",
        "                    integral += densidad * coef[i] * coef[j] * coef[k]\n",
        "\n",
        "    return integral\n",
        "\n",
        "# Para n menores que 20 da un error muy alto\n",
        "n = 20\n",
        "\n",
        "integral = cuadratura_gaussiana(densidad, n)\n",
        "val_exacto = np.pi\n",
        "\n",
        "\n",
        "\n",
        "\n",
        "\n",
        "print(f\"Resultado numérico (cuadratura gaussiana en cartesianas): {integral}\")\n",
        "print(f\"Resultado exacto: {val_exacto}\")\n",
        "print(f\"Error relativo: {abs(integral - val_exacto)*100 / val_exacto}%\")\n"
      ],
      "metadata": {
        "colab": {
          "base_uri": "https://localhost:8080/"
        },
        "id": "sCIFDWGlT30A",
        "outputId": "237691c8-3e50-44c9-a883-9bf0fab8d911"
      },
      "execution_count": null,
      "outputs": [
        {
          "output_type": "stream",
          "name": "stdout",
          "text": [
            "Resultado numérico (cuadratura gaussiana en cartesianas): 3.179126631020514\n",
            "Resultado exacto: 3.141592653589793\n",
            "Error relativo: 1.1947436083997791%\n"
          ]
        }
      ]
    },
    {
      "cell_type": "code",
      "source": [],
      "metadata": {
        "id": "S7r9HwxBJ0-F"
      },
      "execution_count": null,
      "outputs": []
    }
  ]
}